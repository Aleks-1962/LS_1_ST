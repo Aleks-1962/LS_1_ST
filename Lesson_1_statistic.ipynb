{
  "nbformat": 4,
  "nbformat_minor": 0,
  "metadata": {
    "kernelspec": {
      "display_name": "Python 3",
      "language": "python",
      "name": "python3"
    },
    "language_info": {
      "codemirror_mode": {
        "name": "ipython",
        "version": 3
      },
      "file_extension": ".py",
      "mimetype": "text/x-python",
      "name": "python",
      "nbconvert_exporter": "python",
      "pygments_lexer": "ipython3",
      "version": "3.8.5"
    },
    "colab": {
      "name": "Lesson_1_statistic.ipynb",
      "provenance": [],
      "include_colab_link": true
    }
  },
  "cells": [
    {
      "cell_type": "markdown",
      "metadata": {
        "id": "view-in-github",
        "colab_type": "text"
      },
      "source": [
        "<a href=\"https://colab.research.google.com/github/Aleks-1962/LS_1_ST/blob/main/Lesson_1_statistic.ipynb\" target=\"_parent\"><img src=\"https://colab.research.google.com/assets/colab-badge.svg\" alt=\"Open In Colab\"/></a>"
      ]
    },
    {
      "cell_type": "code",
      "metadata": {
        "id": "uGG9rcnLNd--"
      },
      "source": [
        "from math import factorial"
      ],
      "execution_count": null,
      "outputs": []
    },
    {
      "cell_type": "markdown",
      "metadata": {
        "id": "YiuL4XACNd_E"
      },
      "source": [
        "1. Из колоды в 52 карты извлекаются случайным образом 4 карты. "
      ]
    },
    {
      "cell_type": "markdown",
      "metadata": {
        "id": "fnCA5-ybNd_H"
      },
      "source": [
        "Применяем формулу для подсчета сочитаний"
      ]
    },
    {
      "cell_type": "markdown",
      "metadata": {
        "id": "h-9MfkFNNd_I"
      },
      "source": [
        "a) Найти вероятность того, что все карты – крести. "
      ]
    },
    {
      "cell_type": "code",
      "metadata": {
        "id": "G_0LbEjKNd_I",
        "outputId": "812ab0b4-78ff-4f65-f632-6d4853aa7908"
      },
      "source": [
        "# 4 карты из 13 одной мости (крести)\n",
        "n=13\n",
        "k=4\n",
        "a=int((factorial(n) / (factorial(k) * factorial(n - k))))\n",
        "print(f'Число благоприятных исходов: {a}')\n",
        "\n",
        "# 4 карты из 52 карт колоды\n",
        "n=52\n",
        "k=4\n",
        "b=int((factorial(n) / (factorial(k) * factorial(n - k))))\n",
        "print(f'Общее число исходов: {b}')\n",
        "p=round(a/b*100,4)\n",
        "print(f'Вероятность в %: {p}')"
      ],
      "execution_count": null,
      "outputs": [
        {
          "name": "stdout",
          "output_type": "stream",
          "text": [
            "Число благоприятных исходов: 715\n",
            "Общее число исходов: 270725\n",
            "Вероятность в %: 0.2641\n"
          ]
        }
      ]
    },
    {
      "cell_type": "markdown",
      "metadata": {
        "id": "BREAAR3ONd_L"
      },
      "source": [
        "б) Найти вероятность, что среди 4-х карт окажется хотя бы один туз."
      ]
    },
    {
      "cell_type": "code",
      "metadata": {
        "id": "C6hbRpXINd_M",
        "outputId": "53a284a0-cfdf-473e-dd4f-a790a97503be"
      },
      "source": [
        "n1=4\n",
        "k1=1\n",
        "n2=48\n",
        "k2=3\n",
        "c1=int((factorial(n1) / (factorial(k1) * factorial(n1 - k1))))*int((factorial(n2) / (factorial(k2) * factorial(n2 - k2))))\n",
        "print(f'Количество исходов, где выбран 1 туз и 3 карты из оставшихся 48 карт: {c1}')\n",
        "\n",
        "n1=4\n",
        "k1=2\n",
        "n2=48\n",
        "k2=2\n",
        "c2=int((factorial(n1) / (factorial(k1) * factorial(n1 - k1))))*int((factorial(n2) / (factorial(k2) * factorial(n2 - k2))))\n",
        "print(f'Количество исходов, где выбран 2 туз и 2 карты из оставшихся 48 карт: {c2}')\n",
        "\n",
        "n1=4\n",
        "k1=3\n",
        "n2=48\n",
        "k2=1\n",
        "c3=int((factorial(n1) / (factorial(k1) * factorial(n1 - k1))))*int((factorial(n2) / (factorial(k2) * factorial(n2 - k2))))\n",
        "print(f'Количество исходов, где выбран 3 туз и 1 карты из оставшихся 48 карт: {c3}')\n",
        "\n",
        "n1=4\n",
        "k1=4\n",
        "n2=48\n",
        "k2=0\n",
        "c4=int((factorial(n1) / (factorial(k1) * factorial(n1 - k1))))*int((factorial(n2) / (factorial(k2) * factorial(n2 - k2))))\n",
        "print(f'Количество исходов, где выбран 4 туз и 0 карты из оставшихся 48 карт: {c4}')\n",
        "\n",
        "p=round((c1+c2+c3+c4)/b*100,4)\n",
        "print(f'Вероятность, что среди 4-х карт окажется хотя бы один туз в %: {p}')"
      ],
      "execution_count": null,
      "outputs": [
        {
          "name": "stdout",
          "output_type": "stream",
          "text": [
            "кол-во исходов, где выбран 1 туз и 3 карты из оставшихся 48 карт: 69184\n",
            "кол-во исходов, где выбран 2 туз и 2 карты из оставшихся 48 карт: 6768\n",
            "кол-во исходов, где выбран 3 туз и 1 карты из оставшихся 48 карт: 192\n",
            "кол-во исходов, где выбран 4 туз и 0 карты из оставшихся 48 карт: 1\n",
            "Вероятность, что среди 4-х карт окажется хотя бы один туз в %: 28.1263\n"
          ]
        }
      ]
    },
    {
      "cell_type": "code",
      "metadata": {
        "id": "nMBGYxSkNd_O"
      },
      "source": [
        "2. На входной двери подъезда установлен кодовый замок, содержащий десять кнопок с цифрами от 0 до 9. Код содержит три цифры,\n",
        "которые нужно нажать одновременно. Какова вероятность того, что человек, не знающий код, откроет дверь с первой попытки?"
      ],
      "execution_count": null,
      "outputs": []
    },
    {
      "cell_type": "code",
      "metadata": {
        "id": "IN-zXaC0Nd_P",
        "outputId": "b36d5661-26ba-476a-dcf7-ed9d9bae8841"
      },
      "source": [
        "a=1 \n",
        "print(f'Благоприятные исходы: {a}')\n",
        "\n",
        "n=10\n",
        "k=3\n",
        "b=int((factorial(n) / (factorial(k) * factorial(n - k))))\n",
        "print(f'Количество исходов для 3 цифр из 10: {b}')\n",
        "\n",
        "p=round(a/b*100,4)\n",
        "print(f'Вероятность в %: {p}')"
      ],
      "execution_count": null,
      "outputs": [
        {
          "name": "stdout",
          "output_type": "stream",
          "text": [
            "Благоприятные исходы: 1\n",
            "Количество исходов для 3 цифр из 10: 120\n",
            "Вероятность в %: 0.8333\n"
          ]
        }
      ]
    },
    {
      "cell_type": "markdown",
      "metadata": {
        "id": "jqLU8wK3Nd_R"
      },
      "source": [
        "3. В ящике имеется 15 деталей, из которых 9 окрашены. Рабочий случайным образом извлекает 3 детали.\n",
        "Какова вероятность того, что все извлеченные детали окрашены?"
      ]
    },
    {
      "cell_type": "code",
      "metadata": {
        "id": "-zv0vhtQNd_R",
        "outputId": "5701e79f-f3cc-4729-ca80-a1ce88d73301"
      },
      "source": [
        "n=9\n",
        "k=3\n",
        "a=int((factorial(n) / (factorial(k) * factorial(n - k))))\n",
        "print(f'Число благоприятных исходов: {a}')\n",
        "\n",
        "n=15\n",
        "k=3\n",
        "b=int((factorial(n) / (factorial(k) * factorial(n - k))))\n",
        "print(f'Общее число исходов: {b}')\n",
        "p=round(a/b*100,4)\n",
        "print(f'Вероятность в %: {p}')"
      ],
      "execution_count": null,
      "outputs": [
        {
          "name": "stdout",
          "output_type": "stream",
          "text": [
            "Число благоприятных исходов: 84\n",
            "Общее число исходов: 455\n",
            "Вероятность в %: 18.4615\n"
          ]
        }
      ]
    },
    {
      "cell_type": "code",
      "metadata": {
        "id": "cosLrQMONd_S"
      },
      "source": [
        "4. В лотерее 100 билетов. Из них 2 выигрышных. Какова вероятность того, что 2 приобретенных билета окажутся выигрышными?"
      ],
      "execution_count": null,
      "outputs": []
    },
    {
      "cell_type": "code",
      "metadata": {
        "id": "GVaBnsEHNd_S",
        "outputId": "3b0b2118-e24a-4519-f911-c504a1eb42b9"
      },
      "source": [
        "n=2\n",
        "k=2\n",
        "a=int((factorial(n) / (factorial(k) * factorial(n - k))))\n",
        "print(f'Число благоприятных исходов: {a}')\n",
        "\n",
        "n=100\n",
        "k=2\n",
        "b=int((factorial(n) / (factorial(k) * factorial(n - k))))\n",
        "print(f'Общее число исходов: {b}')\n",
        "p=round(a/b*100,4)\n",
        "print(f'Вероятность в %: {p}')"
      ],
      "execution_count": null,
      "outputs": [
        {
          "name": "stdout",
          "output_type": "stream",
          "text": [
            "Число благоприятных исходов: 1\n",
            "Общее число исходов: 4950\n",
            "Вероятность в %: 0.0202\n"
          ]
        }
      ]
    },
    {
      "cell_type": "code",
      "metadata": {
        "id": "UK82mpoCNd_T"
      },
      "source": [
        ""
      ],
      "execution_count": null,
      "outputs": []
    },
    {
      "cell_type": "code",
      "metadata": {
        "id": "D8kr7lxSNd_T"
      },
      "source": [
        ""
      ],
      "execution_count": null,
      "outputs": []
    }
  ]
}